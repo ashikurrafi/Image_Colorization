{
 "cells": [
  {
   "cell_type": "code",
   "execution_count": 22,
   "metadata": {
    "colab": {},
    "colab_type": "code",
    "id": "OB0VGvf_zUwg"
   },
   "outputs": [],
   "source": [
    "#Importing Libraries\n",
    "import os\n",
    "import cv2\n",
    "import numpy\n",
    "import keras\n",
    "import skimage.io\n",
    "import skimage.color\n",
    "import matplotlib.pyplot\n",
    "import tensorflow\n",
    "import tensorboard\n"
   ]
  },
  {
   "cell_type": "code",
   "execution_count": null,
   "metadata": {},
   "outputs": [],
   "source": [
    "gpus = tensorflow.config.experimental.list_physical_devices('GPU')\n",
    "print(f\"Number of GPUs: {len(gpus)}\")\n",
    "for gpu in gpus:\n",
    "    tensorflow.config.experimental.set_memory_growth(gpu, True)\n"
   ]
  },
  {
   "cell_type": "code",
   "execution_count": 24,
   "metadata": {
    "colab": {},
    "colab_type": "code",
    "id": "dcngzGPVZPXG"
   },
   "outputs": [],
   "source": [
    "#Getting Images\n",
    "\n",
    "X = []\n",
    "for imagename in os.listdir('Dataset/Train/'):\n",
    "    X.append(tensorflow.keras.utils.img_to_array(tensorflow.keras.utils.load_img('Dataset/Train/'+imagename, target_size=(256, 256))))\n",
    "X = numpy.array(X, dtype=float)\n",
    "\n",
    "\n",
    "\n"
   ]
  },
  {
   "cell_type": "code",
   "execution_count": 25,
   "metadata": {},
   "outputs": [],
   "source": [
    "# Set up train and test data\n",
    "split = int(0.95*len(X))\n",
    "Xtrain = X[:split]\n",
    "Xtrain = 1.0/255*Xtrain"
   ]
  },
  {
   "cell_type": "code",
   "execution_count": 26,
   "metadata": {},
   "outputs": [],
   "source": [
    "\n",
    "#set up Test data\n",
    "Xtest = X[split:]\n",
    "Xtest = 1.0/255*Xtest"
   ]
  },
  {
   "cell_type": "code",
   "execution_count": 27,
   "metadata": {
    "colab": {},
    "colab_type": "code",
    "id": "rQluK8okZdS-"
   },
   "outputs": [],
   "source": [
    "#CNN model\n",
    "\n",
    "def create_model():\n",
    "\n",
    "\n",
    "    model = keras.models.Sequential()\n",
    "\n",
    "    #Input Layer\n",
    "    model.add(keras.layers.Conv2D(64, (3, 3), input_shape=(256, 256, 1), activation='relu', padding='same'))\n",
    "\n",
    "    #Hidden Layers\n",
    "    model.add(keras.layers.Conv2D(64, (3, 3), activation='relu', padding='same', strides=2))\n",
    "    model.add(keras.layers.Conv2D(128, (3, 3), activation='relu', padding='same'))\n",
    "    model.add(keras.layers.Conv2D(128, (3, 3), activation='relu', padding='same', strides=2))\n",
    "    model.add(keras.layers.Conv2D(256, (3, 3), activation='relu', padding='same'))\n",
    "    model.add(keras.layers.Conv2D(256, (3, 3), activation='relu', padding='same', strides=2))\n",
    "    model.add(keras.layers.Conv2D(512, (3, 3), activation='relu', padding='same'))\n",
    "    model.add(keras.layers.Conv2D(256, (3, 3), activation='relu', padding='same'))\n",
    "    model.add(keras.layers.Conv2D(128, (3, 3), activation='relu', padding='same'))\n",
    "    model.add(keras.layers.UpSampling2D((2, 2)))\n",
    "    model.add(keras.layers.Conv2D(64, (3, 3), activation='relu', padding='same'))\n",
    "    model.add(keras.layers.UpSampling2D((2, 2)))\n",
    "    model.add(keras.layers.Conv2D(32, (3, 3), activation='relu', padding='same'))\n",
    "    model.add(keras.layers.Conv2D(2, (3, 3), activation='tanh', padding='same'))\n",
    "    model.add(keras.layers.UpSampling2D((2, 2)))\n",
    "\n",
    "\n",
    "\n",
    "    #Compiling the CNN\n",
    "    model.compile(optimizer='rmsprop', loss='mse', metrics = ['accuracy'])\n",
    "\n",
    "\n",
    "    return model"
   ]
  },
  {
   "cell_type": "code",
   "execution_count": 28,
   "metadata": {},
   "outputs": [],
   "source": [
    "# Function to save the last completed epoch\n",
    "def save_epoch(epoch):\n",
    "    with open('Dataset/output/last_epoch.txt', 'w') as f:\n",
    "        f.write(str(epoch))\n"
   ]
  },
  {
   "cell_type": "code",
   "execution_count": 29,
   "metadata": {},
   "outputs": [],
   "source": [
    "# Custom callback to save the epoch\n",
    "class EpochSaver(tensorflow.keras.callbacks.Callback):\n",
    "    def on_epoch_end(self, epoch, logs=None):\n",
    "        save_epoch(epoch)\n"
   ]
  },
  {
   "cell_type": "code",
   "execution_count": 30,
   "metadata": {
    "colab": {
     "base_uri": "https://localhost:8080/",
     "height": 17535
    },
    "colab_type": "code",
    "id": "eUkYfqqUuWrd",
    "outputId": "3d80459c-1bd1-4c2f-d2b8-5d191dc6bf13"
   },
   "outputs": [],
   "source": [
    "\n",
    "\n",
    "\n",
    "\n",
    "\n",
    "\n",
    "# Generate training data\n",
    "def image_a_b_gen(batch_size, datagen, Xtrain):\n",
    "    for batch in datagen.flow(Xtrain, batch_size=batch_size):\n",
    "        lab_batch = skimage.color.rgb2lab(batch)\n",
    "        X_batch = lab_batch[:, :, :, 0]\n",
    "        Y_batch = lab_batch[:, :, :, 1:] / 128\n",
    "        yield (X_batch.reshape(X_batch.shape + (1,)), Y_batch)\n"
   ]
  },
  {
   "cell_type": "code",
   "execution_count": 31,
   "metadata": {},
   "outputs": [],
   "source": [
    "\n",
    "# Image transformer\n",
    "datagen = tensorflow.keras.preprocessing.image.ImageDataGenerator(\n",
    "        shear_range=0.2,\n",
    "        zoom_range=0.2,\n",
    "        rotation_range=20,\n",
    "        horizontal_flip=True)"
   ]
  },
  {
   "cell_type": "code",
   "execution_count": 32,
   "metadata": {},
   "outputs": [],
   "source": [
    "# Load or create model\n",
    "model_path = 'Dataset/output/model_checkpoint.h5'\n",
    "if os.path.exists(model_path):\n",
    "    model = tensorflow.keras.models.load_model(model_path)\n",
    "else:\n",
    "    model = create_model()\n"
   ]
  },
  {
   "cell_type": "code",
   "execution_count": 33,
   "metadata": {},
   "outputs": [],
   "source": [
    "# Read the last completed epoch\n",
    "last_epoch = 0\n",
    "if os.path.exists('Dataset/output/last_epoch.txt'):\n",
    "    with open('Dataset/output/last_epoch.txt', 'r') as f:\n",
    "        last_epoch = int(f.read())\n"
   ]
  },
  {
   "cell_type": "code",
   "execution_count": 34,
   "metadata": {},
   "outputs": [],
   "source": [
    "# Define callbacks\n",
    "tensorboard = tensorflow.keras.callbacks.TensorBoard(log_dir=\"Dataset/output/beta_run\")\n",
    "checkpoint_callback =tensorflow.keras.callbacks.ModelCheckpoint(\n",
    "    model_path,\n",
    "    save_best_only=False,\n",
    "    save_weights_only=False,\n",
    "    monitor='loss',\n",
    "    mode='min',\n",
    "    verbose=1\n",
    ")\n",
    "epoch_saver = EpochSaver()\n"
   ]
  },
  {
   "cell_type": "code",
   "execution_count": null,
   "metadata": {},
   "outputs": [],
   "source": [
    "# Train model\n",
    "batch_size = 10\n",
    "trainedmodel = model.fit(\n",
    "    image_a_b_gen(batch_size, datagen, Xtrain),  # Replace Xtrain with your training data\n",
    "    callbacks=[tensorboard, checkpoint_callback, epoch_saver],\n",
    "    epochs=500,\n",
    "    steps_per_epoch=30,\n",
    "    initial_epoch=last_epoch  # Start from the last completed epoch\n",
    ")"
   ]
  },
  {
   "cell_type": "code",
   "execution_count": null,
   "metadata": {},
   "outputs": [],
   "source": [
    "\n",
    "# Summarize history for model accuracy\n",
    "matplotlib.pyplot.plot(trainedmodel.history['accuracy'])\n",
    "matplotlib.pyplot.title('model accuracy')\n",
    "matplotlib.pyplot.ylabel('accuracy')\n",
    "matplotlib.pyplot.xlabel('epoch')\n",
    "matplotlib.pyplot.legend(['train', 'test'], loc='upper left')\n",
    "matplotlib.pyplot.show()\n"
   ]
  },
  {
   "cell_type": "code",
   "execution_count": null,
   "metadata": {},
   "outputs": [],
   "source": [
    "\n",
    "# Summarize history for model loss\n",
    "matplotlib.pyplot.plot(trainedmodel.history['loss'])\n",
    "matplotlib.pyplot.title('model loss')\n",
    "matplotlib.pyplot.ylabel('loss')\n",
    "matplotlib.pyplot.xlabel('epoch')\n",
    "matplotlib.pyplot.legend(['train', 'test'], loc='upper left')\n",
    "matplotlib.pyplot.show()"
   ]
  },
  {
   "cell_type": "code",
   "execution_count": 38,
   "metadata": {
    "colab": {},
    "colab_type": "code",
    "id": "J2VD886hawiN"
   },
   "outputs": [],
   "source": [
    "# Save model\n",
    "\n",
    "model_json = model.to_json()\n",
    "with open(\"Dataset/Model/model.json\", \"w\") as json_file:\n",
    "    json_file.write(model_json)\n",
    "model.save_weights(\"Dataset/Model/model.h5\")"
   ]
  },
  {
   "cell_type": "code",
   "execution_count": 39,
   "metadata": {
    "colab": {},
    "colab_type": "code",
    "id": "G7R1KkZm1RPs"
   },
   "outputs": [],
   "source": [
    "# load json and create model\n",
    "\n",
    "from keras.models import model_from_json\n",
    "json_file = open('Dataset/Model/model.json', 'r')\n",
    "loaded_model_json = json_file.read()\n",
    "json_file.close()\n",
    "loaded_model = model_from_json(loaded_model_json)\n",
    "# load weights into new model\n",
    "loaded_model.load_weights(\"Dataset/Model/model.h5\")"
   ]
  },
  {
   "cell_type": "code",
   "execution_count": null,
   "metadata": {
    "scrolled": true
   },
   "outputs": [],
   "source": [
    "loaded_model.summary()"
   ]
  },
  {
   "cell_type": "code",
   "execution_count": null,
   "metadata": {},
   "outputs": [],
   "source": [
    "# Test images\n",
    "loaded_model.compile(optimizer='rmsprop', loss='mse', metrics = ['accuracy'])\n",
    "Xtest = skimage.color.rgb2lab(1.0/255*X[split:])[:,:,:,0]\n",
    "Xtest = Xtest.reshape(Xtest.shape+(1,))\n",
    "Ytest = skimage.color.rgb2lab(1.0/255*X[split:])[:,:,:,1:]\n",
    "Ytest = Ytest / 128\n",
    "print(loaded_model.evaluate(Xtest, Ytest, batch_size=10))"
   ]
  },
  {
   "cell_type": "code",
   "execution_count": null,
   "metadata": {},
   "outputs": [],
   "source": [
    "\n",
    "# Directory containing images\n",
    "directory = 'Dataset/Test/'\n",
    "\n",
    "# Count number of images in the directory\n",
    "num_images = len([filename for filename in os.listdir(directory) if filename.endswith('.jpg') or filename.endswith('.png')])\n",
    "\n",
    "print(\"Number of images in folder : \", num_images)\n",
    "\n",
    "\n",
    "# Ensure at least 1 image is found\n",
    "if num_images == 0:\n",
    "    raise ValueError(\"No images found in the directory.\")\n",
    "\n",
    "# Create subplot grid based on the number of images found\n",
    "fig, ax = matplotlib.pyplot.subplots(num_images, 2, figsize=(16, num_images * 5))\n",
    "row = 0\n",
    "colorize = []\n",
    "\n",
    "print('Output of the Model')\n",
    "\n",
    "# Loop through images in the directory\n",
    "for filename in os.listdir(directory):\n",
    "    if filename.endswith('.jpg') or filename.endswith('.png'):\n",
    "        img = cv2.imread(os.path.join(directory, filename))\n",
    "\n",
    "        # Check if image is read correctly\n",
    "        if img is None:\n",
    "            print(f\"Couldn't read image {filename}. Skipping.\")\n",
    "            continue\n",
    "\n",
    "        img = cv2.cvtColor(img, cv2.COLOR_BGR2RGB)\n",
    "        img_resized = cv2.resize(img, (256, 256))\n",
    "        colorize.append(img_resized)\n",
    "\n",
    "        ax[row, 0].imshow(img_resized, interpolation='nearest')\n",
    "        row += 1\n",
    "\n",
    "colorize = numpy.array(colorize, dtype=float)\n",
    "colorize = skimage.color.rgb2lab(1.0/255 * colorize)[:, :, :, 0]\n",
    "colorize = colorize.reshape(colorize.shape + (1,))\n",
    "\n",
    "\n",
    "# Test model\n",
    "output = loaded_model.predict(colorize)\n",
    "output *= 128\n",
    "\n",
    "row = 0\n",
    "\n",
    "# Output colorizations\n",
    "for i in range(len(output)):\n",
    "    cur = numpy.zeros((256, 256, 3))\n",
    "    cur[:, :, 0] = colorize[i][:, :, 0]\n",
    "    cur[:, :, 1:] = output[i]\n",
    "    resImage = skimage.color.lab2rgb(cur)\n",
    "\n",
    "    ax[row, 1].imshow(resImage, interpolation='nearest')\n",
    "    row += 1\n",
    "\n",
    "matplotlib.pyplot.show()"
   ]
  }
 ],
 "metadata": {
  "accelerator": "GPU",
  "colab": {
   "collapsed_sections": [],
   "name": "Auto color.ipynb",
   "provenance": [],
   "version": "0.3.2"
  },
  "kernelspec": {
   "display_name": "tfdml_plugin",
   "language": "python",
   "name": "python3"
  },
  "language_info": {
   "codemirror_mode": {
    "name": "ipython",
    "version": 3
   },
   "file_extension": ".py",
   "mimetype": "text/x-python",
   "name": "python",
   "nbconvert_exporter": "python",
   "pygments_lexer": "ipython3",
   "version": "3.9.20"
  }
 },
 "nbformat": 4,
 "nbformat_minor": 4
}
